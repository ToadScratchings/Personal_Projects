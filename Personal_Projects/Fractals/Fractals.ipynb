{
 "cells": [
  {
   "cell_type": "markdown",
   "id": "normal-italian",
   "metadata": {},
   "source": [
    "### Turtle Demo\n",
    "\n",
    "from turtle import *\n",
    "color('red', 'yellow')\n",
    "begin_fill()\n",
    "while True:\n",
    "    forward(200)\n",
    "    left(170)\n",
    "    if abs(pos()) < 1:\n",
    "        break\n",
    "end_fill()\n",
    "done()"
   ]
  },
  {
   "cell_type": "markdown",
   "id": "suffering-joint",
   "metadata": {},
   "source": [
    "#### Reference: https://towardsdatascience.com/creating-fractals-with-python-d2b663786da6"
   ]
  },
  {
   "cell_type": "markdown",
   "id": "manufactured-diploma",
   "metadata": {},
   "source": [
    "## Turtle"
   ]
  },
  {
   "cell_type": "code",
   "execution_count": null,
   "id": "infrared-quilt",
   "metadata": {},
   "outputs": [],
   "source": [
    "import turtle"
   ]
  },
  {
   "cell_type": "code",
   "execution_count": null,
   "id": "intelligent-appliance",
   "metadata": {},
   "outputs": [],
   "source": [
    "# Speed up drawing\n",
    "\n",
    "turtle.delay(0)"
   ]
  },
  {
   "cell_type": "code",
   "execution_count": null,
   "id": "expressed-husband",
   "metadata": {},
   "outputs": [],
   "source": [
    "MINIMUM_BRANCH_LENGTH = 5\n",
    "\n",
    "def build_tree(t, branch_length, shorten_by, angle):\n",
    "    if branch_length > MINIMUM_BRANCH_LENGTH:\n",
    "        t.forward(branch_length)\n",
    "        new_length = branch_length - shorten_by\n",
    "        t.left(angle)\n",
    "        build_tree(t, new_length, shorten_by, angle)\n",
    "        t.right(angle * 2)\n",
    "        build_tree(t, new_length, shorten_by, angle)\n",
    "        t.left(angle)\n",
    "        t.backward(branch_length)\n",
    "    \n",
    "    \n",
    "tree = turtle.Turtle()\n",
    "tree.hideturtle()\n",
    "tree.setheading(90)\n",
    "tree.color('green')\n",
    "build_tree(tree, 50, 5, 30)\n",
    "# turtle.mainloop()\n"
   ]
  },
  {
   "cell_type": "code",
   "execution_count": null,
   "id": "apart-africa",
   "metadata": {},
   "outputs": [],
   "source": [
    "tree.clear()\n",
    "turtle.bye()"
   ]
  },
  {
   "cell_type": "code",
   "execution_count": null,
   "id": "toxic-collectible",
   "metadata": {},
   "outputs": [],
   "source": [
    "import turtle\n",
    "\n",
    "# Speed up drawing\n",
    "turtle.delay(0)\n",
    "\n",
    "def koch_curve(t, iterations, length, shortening_factor, angle):\n",
    "    if iterations == 0:\n",
    "        t.forward(length)\n",
    "    else:\n",
    "        iterations = iterations - 1\n",
    "        length = length / shortening_factor\n",
    "        koch_curve(t, iterations, length, shortening_factor, angle)\n",
    "        t.left(angle)\n",
    "        koch_curve(t, iterations, length, shortening_factor, angle)\n",
    "        t.right(angle * 2)\n",
    "        koch_curve(t, iterations, length, shortening_factor, angle)\n",
    "        t.left(angle)\n",
    "        koch_curve(t, iterations, length, shortening_factor, angle)\n",
    "        \n",
    "t = turtle.Turtle()\n",
    "t.hideturtle()\n",
    "for i in range(3):\n",
    "  koch_curve(t, 4, 200, 3, 60)\n",
    "  t.right(120)\n"
   ]
  },
  {
   "cell_type": "code",
   "execution_count": null,
   "id": "found-energy",
   "metadata": {
    "scrolled": true
   },
   "outputs": [],
   "source": [
    "t.clear()\n",
    "turtle.bye()"
   ]
  },
  {
   "cell_type": "markdown",
   "id": "earned-capitol",
   "metadata": {},
   "source": [
    "#### Reference: https://understanding-recursion.readthedocs.io/en/latest/13%20Koch%20Curves.html"
   ]
  },
  {
   "cell_type": "code",
   "execution_count": null,
   "id": "demographic-motel",
   "metadata": {},
   "outputs": [],
   "source": [
    "import turtle\n",
    "\n",
    "t = turtle.Turtle()\n",
    "t.showturtle()\n",
    "wn = turtle.Screen()\n",
    "wn.bgcolor('black')\n",
    "\n",
    "t.color('orange')\n",
    "t.pensize(5)\n",
    "\n",
    "# we'll put our ``koch()`` function here\n",
    "\n",
    "wn.exitonclick()"
   ]
  },
  {
   "cell_type": "code",
   "execution_count": 1,
   "id": "exciting-attempt",
   "metadata": {},
   "outputs": [],
   "source": [
    "import turtle"
   ]
  },
  {
   "cell_type": "code",
   "execution_count": 9,
   "id": "successful-canyon",
   "metadata": {},
   "outputs": [],
   "source": [
    "t = turtle.Turtle()\n",
    "wn = turtle.Screen()\n",
    "wn.bgcolor('black')"
   ]
  },
  {
   "cell_type": "code",
   "execution_count": 10,
   "id": "still-plumbing",
   "metadata": {},
   "outputs": [],
   "source": [
    "t.pencolor('orange')\n",
    "t.pensize(5)\n",
    "# Lift pen\n",
    "t.penup()\n",
    "# Move to the left of center\n",
    "t.setpos(-500, 0)\n",
    "# Drop pen\n",
    "t.pendown()\n",
    "# \n",
    "t.speed(0)\n",
    "\n",
    "def koch(t, order, size):\n",
    "    if order == 0:\n",
    "        t.forward(size)\n",
    "    else:\n",
    "        for angle in [60, -120, 60, 0]:\n",
    "            koch(t, order - 1, size // 3)\n",
    "            t.left(angle)\n",
    "\n",
    "size = 1000\n",
    "order = 5\n",
    "koch(t, order, size)\n",
    "\n",
    "wn.exitonclick()"
   ]
  },
  {
   "cell_type": "code",
   "execution_count": 5,
   "id": "advised-magnitude",
   "metadata": {},
   "outputs": [],
   "source": [
    "t.color?"
   ]
  },
  {
   "cell_type": "code",
   "execution_count": 6,
   "id": "animal-trace",
   "metadata": {},
   "outputs": [],
   "source": [
    "t.pencolor?"
   ]
  },
  {
   "cell_type": "code",
   "execution_count": null,
   "id": "invalid-brunei",
   "metadata": {},
   "outputs": [],
   "source": [
    "t.color(40)"
   ]
  },
  {
   "cell_type": "code",
   "execution_count": 8,
   "id": "extra-shelf",
   "metadata": {},
   "outputs": [
    {
     "ename": "Terminator",
     "evalue": "",
     "output_type": "error",
     "traceback": [
      "\u001b[0;31m---------------------------------------------------------------------------\u001b[0m",
      "\u001b[0;31mTerminator\u001b[0m                                Traceback (most recent call last)",
      "\u001b[0;32m<ipython-input-8-b5c138cd64ad>\u001b[0m in \u001b[0;36m<module>\u001b[0;34m\u001b[0m\n\u001b[0;32m----> 1\u001b[0;31m \u001b[0mt\u001b[0m\u001b[0;34m.\u001b[0m\u001b[0mclear\u001b[0m\u001b[0;34m(\u001b[0m\u001b[0;34m)\u001b[0m\u001b[0;34m\u001b[0m\u001b[0;34m\u001b[0m\u001b[0m\n\u001b[0m",
      "\u001b[0;32m~/anaconda3/envs/skl_tut/lib/python3.9/turtle.py\u001b[0m in \u001b[0;36mclear\u001b[0;34m(self)\u001b[0m\n\u001b[1;32m   2642\u001b[0m         \"\"\"\n\u001b[1;32m   2643\u001b[0m         \u001b[0mself\u001b[0m\u001b[0;34m.\u001b[0m\u001b[0m_clear\u001b[0m\u001b[0;34m(\u001b[0m\u001b[0;34m)\u001b[0m\u001b[0;34m\u001b[0m\u001b[0;34m\u001b[0m\u001b[0m\n\u001b[0;32m-> 2644\u001b[0;31m         \u001b[0mself\u001b[0m\u001b[0;34m.\u001b[0m\u001b[0m_update\u001b[0m\u001b[0;34m(\u001b[0m\u001b[0;34m)\u001b[0m\u001b[0;34m\u001b[0m\u001b[0;34m\u001b[0m\u001b[0m\n\u001b[0m\u001b[1;32m   2645\u001b[0m \u001b[0;34m\u001b[0m\u001b[0m\n\u001b[1;32m   2646\u001b[0m     \u001b[0;32mdef\u001b[0m \u001b[0m_update_data\u001b[0m\u001b[0;34m(\u001b[0m\u001b[0mself\u001b[0m\u001b[0;34m)\u001b[0m\u001b[0;34m:\u001b[0m\u001b[0;34m\u001b[0m\u001b[0;34m\u001b[0m\u001b[0m\n",
      "\u001b[0;32m~/anaconda3/envs/skl_tut/lib/python3.9/turtle.py\u001b[0m in \u001b[0;36m_update\u001b[0;34m(self)\u001b[0m\n\u001b[1;32m   2659\u001b[0m             \u001b[0;32mreturn\u001b[0m\u001b[0;34m\u001b[0m\u001b[0;34m\u001b[0m\u001b[0m\n\u001b[1;32m   2660\u001b[0m         \u001b[0;32melif\u001b[0m \u001b[0mscreen\u001b[0m\u001b[0;34m.\u001b[0m\u001b[0m_tracing\u001b[0m \u001b[0;34m==\u001b[0m \u001b[0;36m1\u001b[0m\u001b[0;34m:\u001b[0m\u001b[0;34m\u001b[0m\u001b[0;34m\u001b[0m\u001b[0m\n\u001b[0;32m-> 2661\u001b[0;31m             \u001b[0mself\u001b[0m\u001b[0;34m.\u001b[0m\u001b[0m_update_data\u001b[0m\u001b[0;34m(\u001b[0m\u001b[0;34m)\u001b[0m\u001b[0;34m\u001b[0m\u001b[0;34m\u001b[0m\u001b[0m\n\u001b[0m\u001b[1;32m   2662\u001b[0m             \u001b[0mself\u001b[0m\u001b[0;34m.\u001b[0m\u001b[0m_drawturtle\u001b[0m\u001b[0;34m(\u001b[0m\u001b[0;34m)\u001b[0m\u001b[0;34m\u001b[0m\u001b[0;34m\u001b[0m\u001b[0m\n\u001b[1;32m   2663\u001b[0m             \u001b[0mscreen\u001b[0m\u001b[0;34m.\u001b[0m\u001b[0m_update\u001b[0m\u001b[0;34m(\u001b[0m\u001b[0;34m)\u001b[0m                  \u001b[0;31m# TurtleScreenBase\u001b[0m\u001b[0;34m\u001b[0m\u001b[0;34m\u001b[0m\u001b[0m\n",
      "\u001b[0;32m~/anaconda3/envs/skl_tut/lib/python3.9/turtle.py\u001b[0m in \u001b[0;36m_update_data\u001b[0;34m(self)\u001b[0m\n\u001b[1;32m   2645\u001b[0m \u001b[0;34m\u001b[0m\u001b[0m\n\u001b[1;32m   2646\u001b[0m     \u001b[0;32mdef\u001b[0m \u001b[0m_update_data\u001b[0m\u001b[0;34m(\u001b[0m\u001b[0mself\u001b[0m\u001b[0;34m)\u001b[0m\u001b[0;34m:\u001b[0m\u001b[0;34m\u001b[0m\u001b[0;34m\u001b[0m\u001b[0m\n\u001b[0;32m-> 2647\u001b[0;31m         \u001b[0mself\u001b[0m\u001b[0;34m.\u001b[0m\u001b[0mscreen\u001b[0m\u001b[0;34m.\u001b[0m\u001b[0m_incrementudc\u001b[0m\u001b[0;34m(\u001b[0m\u001b[0;34m)\u001b[0m\u001b[0;34m\u001b[0m\u001b[0;34m\u001b[0m\u001b[0m\n\u001b[0m\u001b[1;32m   2648\u001b[0m         \u001b[0;32mif\u001b[0m \u001b[0mself\u001b[0m\u001b[0;34m.\u001b[0m\u001b[0mscreen\u001b[0m\u001b[0;34m.\u001b[0m\u001b[0m_updatecounter\u001b[0m \u001b[0;34m!=\u001b[0m \u001b[0;36m0\u001b[0m\u001b[0;34m:\u001b[0m\u001b[0;34m\u001b[0m\u001b[0;34m\u001b[0m\u001b[0m\n\u001b[1;32m   2649\u001b[0m             \u001b[0;32mreturn\u001b[0m\u001b[0;34m\u001b[0m\u001b[0;34m\u001b[0m\u001b[0m\n",
      "\u001b[0;32m~/anaconda3/envs/skl_tut/lib/python3.9/turtle.py\u001b[0m in \u001b[0;36m_incrementudc\u001b[0;34m(self)\u001b[0m\n\u001b[1;32m   1291\u001b[0m         \u001b[0;32mif\u001b[0m \u001b[0;32mnot\u001b[0m \u001b[0mTurtleScreen\u001b[0m\u001b[0;34m.\u001b[0m\u001b[0m_RUNNING\u001b[0m\u001b[0;34m:\u001b[0m\u001b[0;34m\u001b[0m\u001b[0;34m\u001b[0m\u001b[0m\n\u001b[1;32m   1292\u001b[0m             \u001b[0mTurtleScreen\u001b[0m\u001b[0;34m.\u001b[0m\u001b[0m_RUNNING\u001b[0m \u001b[0;34m=\u001b[0m \u001b[0;32mTrue\u001b[0m\u001b[0;34m\u001b[0m\u001b[0;34m\u001b[0m\u001b[0m\n\u001b[0;32m-> 1293\u001b[0;31m             \u001b[0;32mraise\u001b[0m \u001b[0mTerminator\u001b[0m\u001b[0;34m\u001b[0m\u001b[0;34m\u001b[0m\u001b[0m\n\u001b[0m\u001b[1;32m   1294\u001b[0m         \u001b[0;32mif\u001b[0m \u001b[0mself\u001b[0m\u001b[0;34m.\u001b[0m\u001b[0m_tracing\u001b[0m \u001b[0;34m>\u001b[0m \u001b[0;36m0\u001b[0m\u001b[0;34m:\u001b[0m\u001b[0;34m\u001b[0m\u001b[0;34m\u001b[0m\u001b[0m\n\u001b[1;32m   1295\u001b[0m             \u001b[0mself\u001b[0m\u001b[0;34m.\u001b[0m\u001b[0m_updatecounter\u001b[0m \u001b[0;34m+=\u001b[0m \u001b[0;36m1\u001b[0m\u001b[0;34m\u001b[0m\u001b[0;34m\u001b[0m\u001b[0m\n",
      "\u001b[0;31mTerminator\u001b[0m: "
     ]
    }
   ],
   "source": [
    "t.clear()"
   ]
  },
  {
   "cell_type": "markdown",
   "id": "perceived-difficulty",
   "metadata": {},
   "source": [
    "#### Reference: https://stackoverflow.com/questions/25772750/sierpinski-triangle-recursion-using-turtle-graphics"
   ]
  },
  {
   "cell_type": "code",
   "execution_count": 12,
   "id": "dietary-server",
   "metadata": {
    "scrolled": true
   },
   "outputs": [],
   "source": [
    "import turtle\n",
    "def draw_sierpinski(length,depth):\n",
    "    if depth==0:\n",
    "        for i in range(0,3):\n",
    "            t.fd(length)\n",
    "            t.left(120)\n",
    "    else:\n",
    "        draw_sierpinski(length/2,depth-1)\n",
    "        t.fd(length/2)\n",
    "        draw_sierpinski(length/2,depth-1)\n",
    "        t.bk(length/2)\n",
    "        t.left(60)\n",
    "        t.fd(length/2)\n",
    "        t.right(60)\n",
    "        draw_sierpinski(length/2,depth-1)\n",
    "\n",
    "\n",
    "window = turtle.Screen()\n",
    "t = turtle.Turtle()\n",
    "draw_sierpinski(500,1)\n",
    "window.exitonclick()"
   ]
  },
  {
   "cell_type": "code",
   "execution_count": 14,
   "id": "intense-circumstances",
   "metadata": {},
   "outputs": [],
   "source": [
    "from turtle import * "
   ]
  },
  {
   "cell_type": "code",
   "execution_count": 16,
   "id": "numerical-patio",
   "metadata": {},
   "outputs": [
    {
     "name": "stdout",
     "output_type": "stream",
     "text": [
      "3\n"
     ]
    }
   ],
   "source": [
    "def hilbert(level, angle, step):\n",
    "  \n",
    "    # Input Parameters are numeric\n",
    "    # Return Value: None\n",
    "    if level == 0:\n",
    "        return\n",
    "  \n",
    "    right(angle)\n",
    "    hilbert(level-1, -angle, step)\n",
    "  \n",
    "    forward(step)\n",
    "    left(angle)\n",
    "    hilbert(level-1, angle, step)\n",
    "  \n",
    "    forward(step)\n",
    "    hilbert(level-1, angle, step)\n",
    "  \n",
    "    left(angle)\n",
    "    forward(step)\n",
    "    hilbert(level-1, -angle, step)\n",
    "    right(angle)\n",
    "\n",
    "def main():\n",
    "    level = int(input())\n",
    "    size = 200\n",
    "    penup()\n",
    "    goto(-size / 2.0, size / 2.0)\n",
    "    pendown()\n",
    "     \n",
    "    # For positioning turtle\n",
    "    hilbert(level, 90, size/(2**level-1))       \n",
    "#    done()\n",
    "\n",
    "if __name__=='__main__':\n",
    "    main()\n",
    "    ts = getscreen()\n",
    "    ts.getcanvas().postscript(file=\"duck.eps\")\n"
   ]
  },
  {
   "cell_type": "code",
   "execution_count": 18,
   "id": "foster-capitol",
   "metadata": {},
   "outputs": [
    {
     "ename": "Terminator",
     "evalue": "",
     "output_type": "error",
     "traceback": [
      "\u001b[0;31m---------------------------------------------------------------------------\u001b[0m",
      "\u001b[0;31mTerminator\u001b[0m                                Traceback (most recent call last)",
      "\u001b[0;32m<ipython-input-18-a99d80672a24>\u001b[0m in \u001b[0;36m<module>\u001b[0;34m\u001b[0m\n\u001b[0;32m----> 1\u001b[0;31m \u001b[0mts\u001b[0m \u001b[0;34m=\u001b[0m \u001b[0mgetscreen\u001b[0m\u001b[0;34m(\u001b[0m\u001b[0;34m)\u001b[0m\u001b[0;34m\u001b[0m\u001b[0;34m\u001b[0m\u001b[0m\n\u001b[0m",
      "\u001b[0;32m~/anaconda3/envs/skl_tut/lib/python3.9/turtle.py\u001b[0m in \u001b[0;36mgetscreen\u001b[0;34m()\u001b[0m\n",
      "\u001b[0;31mTerminator\u001b[0m: "
     ]
    }
   ],
   "source": [
    "ts = getscreen()"
   ]
  },
  {
   "cell_type": "code",
   "execution_count": null,
   "id": "operating-copyright",
   "metadata": {},
   "outputs": [],
   "source": []
  }
 ],
 "metadata": {
  "kernelspec": {
   "display_name": "Python 3",
   "language": "python",
   "name": "python3"
  },
  "language_info": {
   "codemirror_mode": {
    "name": "ipython",
    "version": 3
   },
   "file_extension": ".py",
   "mimetype": "text/x-python",
   "name": "python",
   "nbconvert_exporter": "python",
   "pygments_lexer": "ipython3",
   "version": "3.9.2"
  }
 },
 "nbformat": 4,
 "nbformat_minor": 5
}
